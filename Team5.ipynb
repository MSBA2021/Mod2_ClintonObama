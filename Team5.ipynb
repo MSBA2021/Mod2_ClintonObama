{
 "cells": [
  {
   "cell_type": "code",
   "execution_count": 147,
   "metadata": {},
   "outputs": [],
   "source": [
    "import numpy as np\n",
    "import pandas as pd\n",
    "from matplotlib import pyplot as plt\n",
    "import matplotlib as mpl\n",
    "import seaborn as sns\n",
    "from sklearn.metrics import mean_absolute_error, mean_squared_error, r2_score\n",
    "\n",
    "from sklearn.impute import SimpleImputer\n",
    "from sklearn.tree import DecisionTreeRegressor, plot_tree\n",
    "from sklearn.linear_model import Ridge, Lasso\n",
    "from sklearn.model_selection import train_test_split, GridSearchCV\n",
    "from sklearn.experimental import enable_iterative_imputer\n",
    "from sklearn.impute import IterativeImputer\n",
    "import statsmodels.formula.api as smf\n",
    "\n",
    "from patsy import dmatrices, dmatrix, build_design_matrices\n",
    "\n",
    "import math\n",
    "pd.set_option('display.max_rows', 500)\n",
    "pd.set_option('display.max_columns', None)\n",
    "\n",
    "# This sets some nicer defaults for plotting.\n",
    "# This must be run in a separate cell from importing matplotlib due to a bug.\n",
    "params = {'legend.fontsize': 'large',\n",
    "          'figure.figsize': (11.0, 11.0),\n",
    "          'axes.labelsize': 'x-large',\n",
    "          'axes.titlesize':'xx-large',\n",
    "          'xtick.labelsize':'large',\n",
    "          'ytick.labelsize':'large'}\n",
    "mpl.rcParams.update(params)\n",
    "\n",
    "# This makes it so that the pandas dataframes don't get truncated horizontally.\n",
    "pd.options.display.max_columns = 200"
   ]
  },
  {
   "cell_type": "code",
   "execution_count": 148,
   "metadata": {},
   "outputs": [],
   "source": [
    "def summarize_dataframe(df):\n",
    "    \"\"\"Summarize a dataframe, and report missing values.\"\"\"\n",
    "    missing_values = pd.DataFrame({'Variable Name': df.columns,\n",
    "                                   'Data Type': df.dtypes,\n",
    "                                   'Missing Values': df.isnull().sum(),\n",
    "                                   'Unique Values': [df[name].nunique() for name in df.columns]}\n",
    "                                 ).set_index('Variable Name')\n",
    "    with pd.option_context(\"display.max_rows\", 1000):\n",
    "        display(pd.concat([missing_values, df.describe(include='all').transpose()], axis=1).fillna(\"\"))"
   ]
  },
  {
   "cell_type": "code",
   "execution_count": 159,
   "metadata": {},
   "outputs": [],
   "source": [
    "def accuracy(y_true, y_pred):\n",
    "    \"\"\"Function that returns a table showing RMSE and MAE.\"\"\"\n",
    "    acc_df = pd.DataFrame(data = {\"RMSE\": [mean_squared_error(y_true, y_pred)**(1/2)],\n",
    "                                  \"MAE\": [mean_absolute_error(y_true, y_pred)],\n",
    "                                  \"R^2\": [r2_score(y_true, y_pred)]})\n",
    "    display(acc_df.style.hide_index())"
   ]
  },
  {
   "cell_type": "code",
   "execution_count": 149,
   "metadata": {},
   "outputs": [],
   "source": [
    "# Read Data, fix Date type\n",
    "elect_df = pd.read_csv(\"/home/jovyan/Data Analytics I/S08 and S11 - Clinton-Obama/Obama.csv\")\n",
    "elect_df[\"ElectionDate\"] = pd.to_datetime(elect_df[\"ElectionDate\"])\n"
   ]
  },
  {
   "cell_type": "code",
   "execution_count": null,
   "metadata": {},
   "outputs": [],
   "source": []
  },
  {
   "cell_type": "code",
   "execution_count": null,
   "metadata": {},
   "outputs": [],
   "source": []
  },
  {
   "cell_type": "code",
   "execution_count": 150,
   "metadata": {},
   "outputs": [],
   "source": [
    "# Split into observed data, and forecast data\n",
    "elect_df_train = elect_df[elect_df[\"ElectionDate\"] < pd.to_datetime(\"2/19/2008\")].copy()\n",
    "elect_df_forecast= elect_df[elect_df[\"ElectionDate\"] >= pd.to_datetime(\"2/19/2008\")].copy()\n",
    "\n",
    "# Create Obama Win Margins\n",
    "elect_df_train[\"Obama_margin\"] = elect_df_train[\"Obama\"] - elect_df_train[\"Clinton\"]\n",
    "elect_df_train[\"Obama_margin_percent\"] = elect_df_train[\"Obama_margin\"] / elect_df_train[\"TotalVote\"]\n",
    "elect_df_train[\"Obama_wins\"] = elect_df_train[\"Obama_margin\"] > 0\n",
    "\n",
    "# Create a Copy (going to try different impute methods)\n",
    "elect_df_train2=elect_df_train.copy()"
   ]
  },
  {
   "cell_type": "markdown",
   "metadata": {},
   "source": [
    "#Create Imputer"
   ]
  },
  {
   "cell_type": "code",
   "execution_count": 151,
   "metadata": {},
   "outputs": [],
   "source": [
    "imputer = IterativeImputer(missing_values=np.nan, max_iter=10,random_state=0,verbose=0, initial_strategy='mean')"
   ]
  },
  {
   "cell_type": "code",
   "execution_count": null,
   "metadata": {},
   "outputs": [],
   "source": []
  },
  {
   "cell_type": "markdown",
   "metadata": {},
   "source": [
    "# 2 methods to impute - code / iterative_imputer"
   ]
  },
  {
   "cell_type": "code",
   "execution_count": 152,
   "metadata": {},
   "outputs": [],
   "source": [
    "elect_df_train.loc[:, \"MalesPer100Females\":\"FarmArea\"] = imputer.fit_transform(elect_df_train.loc[:, \"MalesPer100Females\":\"FarmArea\"])"
   ]
  },
  {
   "cell_type": "code",
   "execution_count": null,
   "metadata": {},
   "outputs": [],
   "source": []
  },
  {
   "cell_type": "code",
   "execution_count": 153,
   "metadata": {},
   "outputs": [],
   "source": [
    "# Replace all null values in elect_df with the state average\n",
    "    # Ignores columns in 'ignore' array\n",
    "ignore = ['FIPS' ,'ElectionDate','ElectionType','Obama','Clinton','TotalVote','County','State','Region']\n",
    "for col in elect_df_train2.columns:\n",
    "    if (col not in ignore):\n",
    "#         print('Replacing ' + str(elect_df[col].isna().sum()) + ' values in ' + col+ ' with state average')\n",
    "        elect_df_train2[col] = elect_df_train2.groupby(\"State\").transform(lambda x: x.fillna(x.mean()))[col] \n"
   ]
  },
  {
   "cell_type": "code",
   "execution_count": 154,
   "metadata": {},
   "outputs": [],
   "source": [
    "# Make sure this is working... Plot black  voter % by state\n",
    "# elect_df.groupby('State').Asian.mean().plot(kind = 'bar')"
   ]
  },
  {
   "cell_type": "markdown",
   "metadata": {},
   "source": [
    "# Created 2 training datasets.. \n",
    "elect_df_train\n",
    "elect_df_train2\n",
    "Now split them both into testing/training parts."
   ]
  },
  {
   "cell_type": "code",
   "execution_count": 157,
   "metadata": {},
   "outputs": [],
   "source": [
    "# Split Train Dataset into Train/Test for tuning model\n",
    "    #Use folding?\n",
    "elect_df_smaller_train1, elect_df_validation1 = train_test_split(elect_df_train, test_size=.25, random_state=201)\n",
    "elect_df_smaller_train2, elect_df_validation2 = train_test_split(elect_df_train2, test_size=.25, random_state=201)"
   ]
  },
  {
   "cell_type": "markdown",
   "metadata": {},
   "source": [
    "# Linear Regression"
   ]
  },
  {
   "cell_type": "code",
   "execution_count": 186,
   "metadata": {},
   "outputs": [
    {
     "data": {
      "text/html": [
       "<style  type=\"text/css\" >\n",
       "</style><table id=\"T_a92f2c70_2433_11eb_b2f9_3a02c7bff7d7\" ><thead>    <tr>        <th class=\"col_heading level0 col0\" >RMSE</th>        <th class=\"col_heading level0 col1\" >MAE</th>        <th class=\"col_heading level0 col2\" >R^2</th>    </tr></thead><tbody>\n",
       "                <tr>\n",
       "                                <td id=\"T_a92f2c70_2433_11eb_b2f9_3a02c7bff7d7row0_col0\" class=\"data row0 col0\" >0.180158</td>\n",
       "                        <td id=\"T_a92f2c70_2433_11eb_b2f9_3a02c7bff7d7row0_col1\" class=\"data row0 col1\" >0.136433</td>\n",
       "                        <td id=\"T_a92f2c70_2433_11eb_b2f9_3a02c7bff7d7row0_col2\" class=\"data row0 col2\" >0.662076</td>\n",
       "            </tr>\n",
       "    </tbody></table>"
      ],
      "text/plain": [
       "<pandas.io.formats.style.Styler at 0x7f08003ae8d0>"
      ]
     },
     "metadata": {},
     "output_type": "display_data"
    }
   ],
   "source": [
    "lm_1 = smf.ols(formula='Obama_margin_percent ~ Region + Black + Asian + AmericanIndian+ Hispanic+ HighSchool + Bachelors + Poverty +MedianIncome+ PopDensity ', data=elect_df_smaller_train1).fit()\n",
    "lm_1_pred = lm_1.predict(elect_df_validation1)\n",
    "accuracy(elect_df_validation[\"Obama_margin_percent\"], lm_1_pred)\n",
    "# lm_1.summary()\n",
    "# lm_2 = smf.ols(formula='Obama_margin_percent ~ Region + Black + HighSchool + Poverty + PopDensity + LandArea', data=elect_df_smaller_train2).fit()"
   ]
  },
  {
   "cell_type": "markdown",
   "metadata": {},
   "source": [
    "# Lasso Regularization"
   ]
  },
  {
   "cell_type": "code",
   "execution_count": 202,
   "metadata": {},
   "outputs": [],
   "source": [
    "variables = [variable for variable in elect_df_smaller_train.columns if variable not in ['FIPS', 'County', 'State', 'ElectionDate', 'TotalVote', 'Obama_margin', 'Obama_margin_percent', 'Obama_wins', 'Clinton', 'Obama']]"
   ]
  },
  {
   "cell_type": "code",
   "execution_count": 189,
   "metadata": {},
   "outputs": [],
   "source": [
    "formula = 'Obama_margin_percent ~ ' + \" + \".join(variables[:2]) +  \" + standardize(\" + \") + standardize(\".join(variables[2:]) + \")\""
   ]
  },
  {
   "cell_type": "code",
   "execution_count": 190,
   "metadata": {},
   "outputs": [],
   "source": [
    "y_linear, X_linear = dmatrices(formula, elect_df_smaller_train, return_type=\"dataframe\")"
   ]
  },
  {
   "cell_type": "code",
   "execution_count": 193,
   "metadata": {},
   "outputs": [],
   "source": [
    "lm_lasso = Lasso(alpha = 1, max_iter=1000000)\n",
    "lm_lasso.fit(X_linear, y_linear)\n",
    "X_validation_linear = build_design_matrices([X_linear.design_info], elect_df_validation1, return_type=\"dataframe\")[0]"
   ]
  },
  {
   "cell_type": "code",
   "execution_count": 195,
   "metadata": {},
   "outputs": [
    {
     "data": {
      "text/html": [
       "<style  type=\"text/css\" >\n",
       "</style><table id=\"T_21aeebd6_2434_11eb_b2f9_3a02c7bff7d7\" ><thead>    <tr>        <th class=\"col_heading level0 col0\" >RMSE</th>        <th class=\"col_heading level0 col1\" >MAE</th>        <th class=\"col_heading level0 col2\" >R^2</th>    </tr></thead><tbody>\n",
       "                <tr>\n",
       "                                <td id=\"T_21aeebd6_2434_11eb_b2f9_3a02c7bff7d7row0_col0\" class=\"data row0 col0\" >0.311966</td>\n",
       "                        <td id=\"T_21aeebd6_2434_11eb_b2f9_3a02c7bff7d7row0_col1\" class=\"data row0 col1\" >0.254121</td>\n",
       "                        <td id=\"T_21aeebd6_2434_11eb_b2f9_3a02c7bff7d7row0_col2\" class=\"data row0 col2\" >-8085241931389026900314719128649728.000000</td>\n",
       "            </tr>\n",
       "    </tbody></table>"
      ],
      "text/plain": [
       "<pandas.io.formats.style.Styler at 0x7f080042dd50>"
      ]
     },
     "metadata": {},
     "output_type": "display_data"
    }
   ],
   "source": [
    "lm_lass_pred = lm_lasso.predict(X_validation_linear)\n",
    "accuracy(lm_lass_pred, elect_df_validation[\"Obama_margin_percent\"])"
   ]
  },
  {
   "cell_type": "code",
   "execution_count": 197,
   "metadata": {},
   "outputs": [
    {
     "data": {
      "text/plain": [
       "GridSearchCV(cv=4, estimator=Lasso(max_iter=1000000),\n",
       "             param_grid={'alpha': array([1.00000000e-05, 1.83298071e-05, 3.35981829e-05, 6.15848211e-05,\n",
       "       1.12883789e-04, 2.06913808e-04, 3.79269019e-04, 6.95192796e-04,\n",
       "       1.27427499e-03, 2.33572147e-03, 4.28133240e-03, 7.84759970e-03,\n",
       "       1.43844989e-02, 2.63665090e-02, 4.83293024e-02, 8.85866790e-02,\n",
       "       1.62377674e-01, 2.97635144e-01, 5.45559478e-01, 1.00000000e+00])},\n",
       "             scoring='neg_mean_squared_error')"
      ]
     },
     "execution_count": 197,
     "metadata": {},
     "output_type": "execute_result"
    }
   ],
   "source": [
    "alphas = np.logspace(-5,0, 20)\n",
    "gs_lasso = GridSearchCV(Lasso(max_iter=1000000), {\"alpha\": alphas}, scoring='neg_mean_squared_error', cv=4)\n",
    "gs_lasso.fit(X_linear, y_linear)"
   ]
  },
  {
   "cell_type": "code",
   "execution_count": 199,
   "metadata": {},
   "outputs": [],
   "source": [
    "lm_lasso_optimized = Lasso(alpha = gs_lasso.best_params_['alpha'], max_iter=1000000)\n",
    "lm_lasso_optimized.fit(X_linear,y_linear)\n",
    "lm_lasso_optimized_pred = lm_lasso_optimized.predict(X_validation_linear)"
   ]
  },
  {
   "cell_type": "code",
   "execution_count": 200,
   "metadata": {},
   "outputs": [
    {
     "data": {
      "text/html": [
       "<style  type=\"text/css\" >\n",
       "</style><table id=\"T_8c9c61f8_2434_11eb_b2f9_3a02c7bff7d7\" ><thead>    <tr>        <th class=\"col_heading level0 col0\" >RMSE</th>        <th class=\"col_heading level0 col1\" >MAE</th>        <th class=\"col_heading level0 col2\" >R^2</th>    </tr></thead><tbody>\n",
       "                <tr>\n",
       "                                <td id=\"T_8c9c61f8_2434_11eb_b2f9_3a02c7bff7d7row0_col0\" class=\"data row0 col0\" >0.167787</td>\n",
       "                        <td id=\"T_8c9c61f8_2434_11eb_b2f9_3a02c7bff7d7row0_col1\" class=\"data row0 col1\" >0.125647</td>\n",
       "                        <td id=\"T_8c9c61f8_2434_11eb_b2f9_3a02c7bff7d7row0_col2\" class=\"data row0 col2\" >0.584926</td>\n",
       "            </tr>\n",
       "    </tbody></table>"
      ],
      "text/plain": [
       "<pandas.io.formats.style.Styler at 0x7f0800523210>"
      ]
     },
     "metadata": {},
     "output_type": "display_data"
    }
   ],
   "source": [
    "accuracy(lm_lasso_optimized_pred, elect_df_validation[\"Obama_margin_percent\"])"
   ]
  },
  {
   "cell_type": "code",
   "execution_count": null,
   "metadata": {},
   "outputs": [],
   "source": []
  }
 ],
 "metadata": {
  "kernelspec": {
   "display_name": "Python 3",
   "language": "python",
   "name": "python3"
  },
  "language_info": {
   "codemirror_mode": {
    "name": "ipython",
    "version": 3
   },
   "file_extension": ".py",
   "mimetype": "text/x-python",
   "name": "python",
   "nbconvert_exporter": "python",
   "pygments_lexer": "ipython3",
   "version": "3.7.7"
  }
 },
 "nbformat": 4,
 "nbformat_minor": 4
}
